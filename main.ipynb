{
 "cells": [
  {
   "cell_type": "code",
   "execution_count": 310,
   "metadata": {
    "collapsed": true
   },
   "outputs": [],
   "source": [
    "import pandas as pd\n",
    "import numpy as np"
   ]
  },
  {
   "cell_type": "code",
   "execution_count": 311,
   "outputs": [],
   "source": [
    "data1Path = 'data\\exp1Data.csv'\n",
    "data2Path = 'data\\exp2Data.csv'\n",
    "data3Path = 'data\\exp3Data.csv'\n",
    "data5Path = 'data\\exp5Data.csv'\n",
    "facesDataInsert = 'data\\O&T300FacesTraitPCs.csv'"
   ],
   "metadata": {
    "collapsed": false,
    "pycharm": {
     "name": "#%%\n"
    }
   }
  },
  {
   "cell_type": "code",
   "execution_count": 312,
   "outputs": [],
   "source": [
    "dataFaces = pd.read_csv(facesDataInsert)\n",
    "data1 = pd.read_csv(data1Path)\n",
    "data2 = pd.read_csv(data2Path)\n",
    "data3 = pd.read_csv(data3Path)\n",
    "data5 = pd.read_csv(data5Path)\n"
   ],
   "metadata": {
    "collapsed": false,
    "pycharm": {
     "name": "#%%\n"
    }
   }
  },
  {
   "cell_type": "code",
   "execution_count": 313,
   "outputs": [
    {
     "data": {
      "text/plain": "   Subject  Block  Trial      Stimulus  Group        RT  Acc  Location  Eye  \\\n0        1      1      1  f42887_e_021      1  1.389223    1        10    2   \n1        1      1      2  f42887_e_203      1  1.084468    1         9    2   \n2        1      1      3  f42887_e_111      1  1.245008    1         9    2   \n3        1      1      4  f42887_e_176      1  1.075123    1        10    1   \n4        1      1      5  f42887_e_216      1  1.265365    1         9    1   \n\n   Response  Condition  Level  \n0         4        NaN    NaN  \n1         3        NaN    NaN  \n2         3        NaN    NaN  \n3         4        NaN    NaN  \n4         3        NaN    NaN  ",
      "text/html": "<div>\n<style scoped>\n    .dataframe tbody tr th:only-of-type {\n        vertical-align: middle;\n    }\n\n    .dataframe tbody tr th {\n        vertical-align: top;\n    }\n\n    .dataframe thead th {\n        text-align: right;\n    }\n</style>\n<table border=\"1\" class=\"dataframe\">\n  <thead>\n    <tr style=\"text-align: right;\">\n      <th></th>\n      <th>Subject</th>\n      <th>Block</th>\n      <th>Trial</th>\n      <th>Stimulus</th>\n      <th>Group</th>\n      <th>RT</th>\n      <th>Acc</th>\n      <th>Location</th>\n      <th>Eye</th>\n      <th>Response</th>\n      <th>Condition</th>\n      <th>Level</th>\n    </tr>\n  </thead>\n  <tbody>\n    <tr>\n      <th>0</th>\n      <td>1</td>\n      <td>1</td>\n      <td>1</td>\n      <td>f42887_e_021</td>\n      <td>1</td>\n      <td>1.389223</td>\n      <td>1</td>\n      <td>10</td>\n      <td>2</td>\n      <td>4</td>\n      <td>NaN</td>\n      <td>NaN</td>\n    </tr>\n    <tr>\n      <th>1</th>\n      <td>1</td>\n      <td>1</td>\n      <td>2</td>\n      <td>f42887_e_203</td>\n      <td>1</td>\n      <td>1.084468</td>\n      <td>1</td>\n      <td>9</td>\n      <td>2</td>\n      <td>3</td>\n      <td>NaN</td>\n      <td>NaN</td>\n    </tr>\n    <tr>\n      <th>2</th>\n      <td>1</td>\n      <td>1</td>\n      <td>3</td>\n      <td>f42887_e_111</td>\n      <td>1</td>\n      <td>1.245008</td>\n      <td>1</td>\n      <td>9</td>\n      <td>2</td>\n      <td>3</td>\n      <td>NaN</td>\n      <td>NaN</td>\n    </tr>\n    <tr>\n      <th>3</th>\n      <td>1</td>\n      <td>1</td>\n      <td>4</td>\n      <td>f42887_e_176</td>\n      <td>1</td>\n      <td>1.075123</td>\n      <td>1</td>\n      <td>10</td>\n      <td>1</td>\n      <td>4</td>\n      <td>NaN</td>\n      <td>NaN</td>\n    </tr>\n    <tr>\n      <th>4</th>\n      <td>1</td>\n      <td>1</td>\n      <td>5</td>\n      <td>f42887_e_216</td>\n      <td>1</td>\n      <td>1.265365</td>\n      <td>1</td>\n      <td>9</td>\n      <td>1</td>\n      <td>3</td>\n      <td>NaN</td>\n      <td>NaN</td>\n    </tr>\n  </tbody>\n</table>\n</div>"
     },
     "execution_count": 313,
     "metadata": {},
     "output_type": "execute_result"
    }
   ],
   "source": [
    "data = pd.concat([data1, data2, data3, data5])\n",
    "data.head()\n"
   ],
   "metadata": {
    "collapsed": false,
    "pycharm": {
     "name": "#%%\n"
    }
   }
  },
  {
   "cell_type": "code",
   "execution_count": 314,
   "outputs": [
    {
     "data": {
      "text/plain": "Index(['Subject', 'Block', 'Trial', 'Stimulus', 'Group', 'RT', 'Acc',\n       'Location', 'Eye', 'Response', 'Condition', 'Level', 'Valence',\n       'Power'],\n      dtype='object')"
     },
     "execution_count": 314,
     "metadata": {},
     "output_type": "execute_result"
    }
   ],
   "source": [
    "combine1 = pd.merge(data, dataFaces)\n",
    "combine1.head()\n",
    "combine1.columns"
   ],
   "metadata": {
    "collapsed": false,
    "pycharm": {
     "name": "#%%\n"
    }
   }
  },
  {
   "cell_type": "code",
   "execution_count": 315,
   "outputs": [
    {
     "data": {
      "text/plain": "Eye             61800\nAcc             61800\nRT              61800\nLocation        61800\nValence         61800\n                ...  \nf42887_e_295    61800\nf42887_e_296    61800\nf42887_e_297    61800\nf42887_e_298    61800\nf42887_e_299    61800\nLength: 306, dtype: int64"
     },
     "execution_count": 315,
     "metadata": {},
     "output_type": "execute_result"
    }
   ],
   "source": [
    "df1 = combine1[['Eye', 'Acc', 'RT', 'Location', 'Valence', 'Power']]\n",
    "df2 = combine1.Stimulus.str.get_dummies()\n",
    "labels = combine1['Location']\n",
    "df = pd.concat([df1,df2], axis=1)\n",
    "\n",
    "df.count()"
   ],
   "metadata": {
    "collapsed": false,
    "pycharm": {
     "name": "#%%\n"
    }
   }
  },
  {
   "cell_type": "code",
   "execution_count": 316,
   "outputs": [
    {
     "data": {
      "text/plain": "   Eye  Acc        RT  Location  Valence    Power  f42887_e_000  f42887_e_001  \\\n0    1    1  1.389223         0  -0.0065  0.04075             0             0   \n1    0    1  1.372089         1  -0.0065  0.04075             0             0   \n2    0    1  2.402000         0  -0.0065  0.04075             0             0   \n3    1    1  1.162304         1  -0.0065  0.04075             0             0   \n4    1    1  1.430640         1  -0.0065  0.04075             0             0   \n\n   f42887_e_002  f42887_e_003  ...  f42887_e_290  f42887_e_291  f42887_e_292  \\\n0             0             0  ...             0             0             0   \n1             0             0  ...             0             0             0   \n2             0             0  ...             0             0             0   \n3             0             0  ...             0             0             0   \n4             0             0  ...             0             0             0   \n\n   f42887_e_293  f42887_e_294  f42887_e_295  f42887_e_296  f42887_e_297  \\\n0             0             0             0             0             0   \n1             0             0             0             0             0   \n2             0             0             0             0             0   \n3             0             0             0             0             0   \n4             0             0             0             0             0   \n\n   f42887_e_298  f42887_e_299  \n0             0             0  \n1             0             0  \n2             0             0  \n3             0             0  \n4             0             0  \n\n[5 rows x 306 columns]",
      "text/html": "<div>\n<style scoped>\n    .dataframe tbody tr th:only-of-type {\n        vertical-align: middle;\n    }\n\n    .dataframe tbody tr th {\n        vertical-align: top;\n    }\n\n    .dataframe thead th {\n        text-align: right;\n    }\n</style>\n<table border=\"1\" class=\"dataframe\">\n  <thead>\n    <tr style=\"text-align: right;\">\n      <th></th>\n      <th>Eye</th>\n      <th>Acc</th>\n      <th>RT</th>\n      <th>Location</th>\n      <th>Valence</th>\n      <th>Power</th>\n      <th>f42887_e_000</th>\n      <th>f42887_e_001</th>\n      <th>f42887_e_002</th>\n      <th>f42887_e_003</th>\n      <th>...</th>\n      <th>f42887_e_290</th>\n      <th>f42887_e_291</th>\n      <th>f42887_e_292</th>\n      <th>f42887_e_293</th>\n      <th>f42887_e_294</th>\n      <th>f42887_e_295</th>\n      <th>f42887_e_296</th>\n      <th>f42887_e_297</th>\n      <th>f42887_e_298</th>\n      <th>f42887_e_299</th>\n    </tr>\n  </thead>\n  <tbody>\n    <tr>\n      <th>0</th>\n      <td>1</td>\n      <td>1</td>\n      <td>1.389223</td>\n      <td>0</td>\n      <td>-0.0065</td>\n      <td>0.04075</td>\n      <td>0</td>\n      <td>0</td>\n      <td>0</td>\n      <td>0</td>\n      <td>...</td>\n      <td>0</td>\n      <td>0</td>\n      <td>0</td>\n      <td>0</td>\n      <td>0</td>\n      <td>0</td>\n      <td>0</td>\n      <td>0</td>\n      <td>0</td>\n      <td>0</td>\n    </tr>\n    <tr>\n      <th>1</th>\n      <td>0</td>\n      <td>1</td>\n      <td>1.372089</td>\n      <td>1</td>\n      <td>-0.0065</td>\n      <td>0.04075</td>\n      <td>0</td>\n      <td>0</td>\n      <td>0</td>\n      <td>0</td>\n      <td>...</td>\n      <td>0</td>\n      <td>0</td>\n      <td>0</td>\n      <td>0</td>\n      <td>0</td>\n      <td>0</td>\n      <td>0</td>\n      <td>0</td>\n      <td>0</td>\n      <td>0</td>\n    </tr>\n    <tr>\n      <th>2</th>\n      <td>0</td>\n      <td>1</td>\n      <td>2.402000</td>\n      <td>0</td>\n      <td>-0.0065</td>\n      <td>0.04075</td>\n      <td>0</td>\n      <td>0</td>\n      <td>0</td>\n      <td>0</td>\n      <td>...</td>\n      <td>0</td>\n      <td>0</td>\n      <td>0</td>\n      <td>0</td>\n      <td>0</td>\n      <td>0</td>\n      <td>0</td>\n      <td>0</td>\n      <td>0</td>\n      <td>0</td>\n    </tr>\n    <tr>\n      <th>3</th>\n      <td>1</td>\n      <td>1</td>\n      <td>1.162304</td>\n      <td>1</td>\n      <td>-0.0065</td>\n      <td>0.04075</td>\n      <td>0</td>\n      <td>0</td>\n      <td>0</td>\n      <td>0</td>\n      <td>...</td>\n      <td>0</td>\n      <td>0</td>\n      <td>0</td>\n      <td>0</td>\n      <td>0</td>\n      <td>0</td>\n      <td>0</td>\n      <td>0</td>\n      <td>0</td>\n      <td>0</td>\n    </tr>\n    <tr>\n      <th>4</th>\n      <td>1</td>\n      <td>1</td>\n      <td>1.430640</td>\n      <td>1</td>\n      <td>-0.0065</td>\n      <td>0.04075</td>\n      <td>0</td>\n      <td>0</td>\n      <td>0</td>\n      <td>0</td>\n      <td>...</td>\n      <td>0</td>\n      <td>0</td>\n      <td>0</td>\n      <td>0</td>\n      <td>0</td>\n      <td>0</td>\n      <td>0</td>\n      <td>0</td>\n      <td>0</td>\n      <td>0</td>\n    </tr>\n  </tbody>\n</table>\n<p>5 rows × 306 columns</p>\n</div>"
     },
     "execution_count": 316,
     "metadata": {},
     "output_type": "execute_result"
    }
   ],
   "source": [
    "def changeEye(eye):\n",
    "    if eye == 2:\n",
    "        return 1\n",
    "    elif eye == 1:\n",
    "        return 0\n",
    "df['Eye'] = df['Eye'].apply(changeEye)\n",
    "\n",
    "def changeLocation(loc):\n",
    "    if loc == 9:\n",
    "        return 1\n",
    "    elif loc == 10:\n",
    "        return 0\n",
    "df['Location'] = df['Location'].apply(changeLocation)\n",
    "\n",
    "df.head()"
   ],
   "metadata": {
    "collapsed": false,
    "pycharm": {
     "name": "#%%\n"
    }
   }
  },
  {
   "cell_type": "code",
   "execution_count": 317,
   "outputs": [],
   "source": [
    "from sklearn.utils import shuffle\n",
    "shuffle(df, labels)\n",
    "\n",
    "train_data, train_labels = df.iloc[:40000], labels[:40000]\n",
    "val_data, val_labels = df.iloc[40000:50000], labels[40000:50000]\n",
    "test_data, test_labels = df.iloc[50000:], labels[50000:]"
   ],
   "metadata": {
    "collapsed": false,
    "pycharm": {
     "name": "#%%\n"
    }
   }
  },
  {
   "cell_type": "code",
   "execution_count": 318,
   "outputs": [
    {
     "data": {
      "text/plain": "10000"
     },
     "execution_count": 318,
     "metadata": {},
     "output_type": "execute_result"
    }
   ],
   "source": [
    "from sklearn.ensemble import RandomForestClassifier\n",
    "\n",
    "rf = RandomForestClassifier()\n",
    "rf.fit(train_data, train_labels)\n",
    "\n",
    "pred = rf.predict(val_data)\n",
    "np.sum(np.where(pred == val_labels, 1, 0))"
   ],
   "metadata": {
    "collapsed": false,
    "pycharm": {
     "name": "#%%\n"
    }
   }
  }
 ],
 "metadata": {
  "kernelspec": {
   "name": "python3",
   "language": "python",
   "display_name": "Python 3"
  },
  "language_info": {
   "codemirror_mode": {
    "name": "ipython",
    "version": 2
   },
   "file_extension": ".py",
   "mimetype": "text/x-python",
   "name": "python",
   "nbconvert_exporter": "python",
   "pygments_lexer": "ipython2",
   "version": "2.7.6"
  }
 },
 "nbformat": 4,
 "nbformat_minor": 0
}