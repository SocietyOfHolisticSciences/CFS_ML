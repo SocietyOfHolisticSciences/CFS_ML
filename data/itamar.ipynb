{
 "cells": [
  {
   "cell_type": "code",
   "execution_count": 1,
   "metadata": {},
   "outputs": [],
   "source": [
    "import pandas as pd\n",
    "import numpy as np"
   ]
  },
  {
   "cell_type": "code",
   "execution_count": 2,
   "metadata": {},
   "outputs": [],
   "source": [
    "data1Path = 'data\\exp1Data.csv'\n",
    "data2Path = 'data\\exp2Data.csv'\n",
    "data5Path = 'data\\exp5Data.csv'\n",
    "facesDataInsert = 'data\\O&T300FacesTraitPCs.csv'"
   ]
  },
  {
   "cell_type": "code",
   "execution_count": 3,
   "metadata": {},
   "outputs": [],
   "source": [
    "dataFaces = pd.read_csv(facesDataInsert)\n",
    "data1 = pd.read_csv(data1Path)\n",
    "data2 = pd.read_csv(data2Path)\n",
    "data5 = pd.read_csv(data5Path)"
   ]
  },
  {
   "cell_type": "code",
   "execution_count": 5,
   "metadata": {},
   "outputs": [
    {
     "data": {
      "text/html": [
       "<div>\n",
       "<style scoped>\n",
       "    .dataframe tbody tr th:only-of-type {\n",
       "        vertical-align: middle;\n",
       "    }\n",
       "\n",
       "    .dataframe tbody tr th {\n",
       "        vertical-align: top;\n",
       "    }\n",
       "\n",
       "    .dataframe thead th {\n",
       "        text-align: right;\n",
       "    }\n",
       "</style>\n",
       "<table border=\"1\" class=\"dataframe\">\n",
       "  <thead>\n",
       "    <tr style=\"text-align: right;\">\n",
       "      <th></th>\n",
       "      <th>Subject</th>\n",
       "      <th>Block</th>\n",
       "      <th>Trial</th>\n",
       "      <th>Stimulus</th>\n",
       "      <th>Group</th>\n",
       "      <th>RT</th>\n",
       "      <th>Acc</th>\n",
       "      <th>Location</th>\n",
       "      <th>Eye</th>\n",
       "      <th>Response</th>\n",
       "    </tr>\n",
       "  </thead>\n",
       "  <tbody>\n",
       "    <tr>\n",
       "      <th>0</th>\n",
       "      <td>1</td>\n",
       "      <td>1</td>\n",
       "      <td>1</td>\n",
       "      <td>f42887_e_021</td>\n",
       "      <td>1</td>\n",
       "      <td>1.389223</td>\n",
       "      <td>1</td>\n",
       "      <td>10</td>\n",
       "      <td>2</td>\n",
       "      <td>4</td>\n",
       "    </tr>\n",
       "    <tr>\n",
       "      <th>1</th>\n",
       "      <td>1</td>\n",
       "      <td>1</td>\n",
       "      <td>2</td>\n",
       "      <td>f42887_e_203</td>\n",
       "      <td>1</td>\n",
       "      <td>1.084468</td>\n",
       "      <td>1</td>\n",
       "      <td>9</td>\n",
       "      <td>2</td>\n",
       "      <td>3</td>\n",
       "    </tr>\n",
       "    <tr>\n",
       "      <th>2</th>\n",
       "      <td>1</td>\n",
       "      <td>1</td>\n",
       "      <td>3</td>\n",
       "      <td>f42887_e_111</td>\n",
       "      <td>1</td>\n",
       "      <td>1.245008</td>\n",
       "      <td>1</td>\n",
       "      <td>9</td>\n",
       "      <td>2</td>\n",
       "      <td>3</td>\n",
       "    </tr>\n",
       "    <tr>\n",
       "      <th>3</th>\n",
       "      <td>1</td>\n",
       "      <td>1</td>\n",
       "      <td>4</td>\n",
       "      <td>f42887_e_176</td>\n",
       "      <td>1</td>\n",
       "      <td>1.075123</td>\n",
       "      <td>1</td>\n",
       "      <td>10</td>\n",
       "      <td>1</td>\n",
       "      <td>4</td>\n",
       "    </tr>\n",
       "    <tr>\n",
       "      <th>4</th>\n",
       "      <td>1</td>\n",
       "      <td>1</td>\n",
       "      <td>5</td>\n",
       "      <td>f42887_e_216</td>\n",
       "      <td>1</td>\n",
       "      <td>1.265365</td>\n",
       "      <td>1</td>\n",
       "      <td>9</td>\n",
       "      <td>1</td>\n",
       "      <td>3</td>\n",
       "    </tr>\n",
       "  </tbody>\n",
       "</table>\n",
       "</div>"
      ],
      "text/plain": [
       "   Subject  Block  Trial      Stimulus  Group        RT  Acc  Location  Eye  \\\n",
       "0        1      1      1  f42887_e_021      1  1.389223    1        10    2   \n",
       "1        1      1      2  f42887_e_203      1  1.084468    1         9    2   \n",
       "2        1      1      3  f42887_e_111      1  1.245008    1         9    2   \n",
       "3        1      1      4  f42887_e_176      1  1.075123    1        10    1   \n",
       "4        1      1      5  f42887_e_216      1  1.265365    1         9    1   \n",
       "\n",
       "   Response  \n",
       "0         4  \n",
       "1         3  \n",
       "2         3  \n",
       "3         4  \n",
       "4         3  "
      ]
     },
     "execution_count": 5,
     "metadata": {},
     "output_type": "execute_result"
    }
   ],
   "source": [
    "data = pd.concat([data1, data2, data5])\n",
    "data.head()"
   ]
  },
  {
   "cell_type": "code",
   "execution_count": 7,
   "metadata": {},
   "outputs": [
    {
     "data": {
      "text/plain": [
       "(   Subject  Block  Trial      Stimulus  Group        RT  Acc  Location  Eye  \\\n",
       " 0        1      1      1  f42887_e_021      1  1.389223    1        10    2   \n",
       " 1        1      2    319  f42887_e_021      1  1.372089    1         9    1   \n",
       " 2       10      1    177  f42887_e_021      1  2.402000    1        10    1   \n",
       " 3       10      2    516  f42887_e_021      1  1.162304    1         9    2   \n",
       " 4       11      1     73  f42887_e_021      1  1.430640    1         9    2   \n",
       " \n",
       "    Response  Valence    Power  \n",
       " 0         4  -0.0065  0.04075  \n",
       " 1         3  -0.0065  0.04075  \n",
       " 2         4  -0.0065  0.04075  \n",
       " 3         3  -0.0065  0.04075  \n",
       " 4         3  -0.0065  0.04075  ,\n",
       " Index(['Subject', 'Block', 'Trial', 'Stimulus', 'Group', 'RT', 'Acc',\n",
       "        'Location', 'Eye', 'Response', 'Valence', 'Power'],\n",
       "       dtype='object'))"
      ]
     },
     "execution_count": 7,
     "metadata": {},
     "output_type": "execute_result"
    }
   ],
   "source": [
    "combine1 = pd.merge(data, dataFaces, on='Stimulus')\n",
    "combine1.head(), combine1.columns"
   ]
  },
  {
   "cell_type": "code",
   "execution_count": 9,
   "metadata": {},
   "outputs": [
    {
     "data": {
      "text/html": [
       "<div>\n",
       "<style scoped>\n",
       "    .dataframe tbody tr th:only-of-type {\n",
       "        vertical-align: middle;\n",
       "    }\n",
       "\n",
       "    .dataframe tbody tr th {\n",
       "        vertical-align: top;\n",
       "    }\n",
       "\n",
       "    .dataframe thead th {\n",
       "        text-align: right;\n",
       "    }\n",
       "</style>\n",
       "<table border=\"1\" class=\"dataframe\">\n",
       "  <thead>\n",
       "    <tr style=\"text-align: right;\">\n",
       "      <th></th>\n",
       "      <th>Subject</th>\n",
       "      <th>Block</th>\n",
       "      <th>Trial</th>\n",
       "      <th>Stimulus</th>\n",
       "      <th>Group</th>\n",
       "      <th>RT</th>\n",
       "      <th>Acc</th>\n",
       "      <th>Location</th>\n",
       "      <th>Eye</th>\n",
       "      <th>Response</th>\n",
       "      <th>Valence</th>\n",
       "      <th>Power</th>\n",
       "    </tr>\n",
       "  </thead>\n",
       "  <tbody>\n",
       "    <tr>\n",
       "      <th>0</th>\n",
       "      <td>1</td>\n",
       "      <td>1</td>\n",
       "      <td>1</td>\n",
       "      <td>f42887_e_021</td>\n",
       "      <td>1</td>\n",
       "      <td>1.389223</td>\n",
       "      <td>1</td>\n",
       "      <td>10</td>\n",
       "      <td>2</td>\n",
       "      <td>4</td>\n",
       "      <td>-0.0065</td>\n",
       "      <td>0.04075</td>\n",
       "    </tr>\n",
       "    <tr>\n",
       "      <th>1</th>\n",
       "      <td>1</td>\n",
       "      <td>2</td>\n",
       "      <td>319</td>\n",
       "      <td>f42887_e_021</td>\n",
       "      <td>1</td>\n",
       "      <td>1.372089</td>\n",
       "      <td>1</td>\n",
       "      <td>9</td>\n",
       "      <td>1</td>\n",
       "      <td>3</td>\n",
       "      <td>-0.0065</td>\n",
       "      <td>0.04075</td>\n",
       "    </tr>\n",
       "    <tr>\n",
       "      <th>2</th>\n",
       "      <td>10</td>\n",
       "      <td>1</td>\n",
       "      <td>177</td>\n",
       "      <td>f42887_e_021</td>\n",
       "      <td>1</td>\n",
       "      <td>2.402000</td>\n",
       "      <td>1</td>\n",
       "      <td>10</td>\n",
       "      <td>1</td>\n",
       "      <td>4</td>\n",
       "      <td>-0.0065</td>\n",
       "      <td>0.04075</td>\n",
       "    </tr>\n",
       "    <tr>\n",
       "      <th>3</th>\n",
       "      <td>10</td>\n",
       "      <td>2</td>\n",
       "      <td>516</td>\n",
       "      <td>f42887_e_021</td>\n",
       "      <td>1</td>\n",
       "      <td>1.162304</td>\n",
       "      <td>1</td>\n",
       "      <td>9</td>\n",
       "      <td>2</td>\n",
       "      <td>3</td>\n",
       "      <td>-0.0065</td>\n",
       "      <td>0.04075</td>\n",
       "    </tr>\n",
       "    <tr>\n",
       "      <th>4</th>\n",
       "      <td>11</td>\n",
       "      <td>1</td>\n",
       "      <td>73</td>\n",
       "      <td>f42887_e_021</td>\n",
       "      <td>1</td>\n",
       "      <td>1.430640</td>\n",
       "      <td>1</td>\n",
       "      <td>9</td>\n",
       "      <td>2</td>\n",
       "      <td>3</td>\n",
       "      <td>-0.0065</td>\n",
       "      <td>0.04075</td>\n",
       "    </tr>\n",
       "  </tbody>\n",
       "</table>\n",
       "</div>"
      ],
      "text/plain": [
       "   Subject  Block  Trial      Stimulus  Group        RT  Acc  Location  Eye  \\\n",
       "0        1      1      1  f42887_e_021      1  1.389223    1        10    2   \n",
       "1        1      2    319  f42887_e_021      1  1.372089    1         9    1   \n",
       "2       10      1    177  f42887_e_021      1  2.402000    1        10    1   \n",
       "3       10      2    516  f42887_e_021      1  1.162304    1         9    2   \n",
       "4       11      1     73  f42887_e_021      1  1.430640    1         9    2   \n",
       "\n",
       "   Response  Valence    Power  \n",
       "0         4  -0.0065  0.04075  \n",
       "1         3  -0.0065  0.04075  \n",
       "2         4  -0.0065  0.04075  \n",
       "3         3  -0.0065  0.04075  \n",
       "4         3  -0.0065  0.04075  "
      ]
     },
     "execution_count": 9,
     "metadata": {},
     "output_type": "execute_result"
    }
   ],
   "source": [
    "combine1.head()"
   ]
  },
  {
   "cell_type": "code",
   "execution_count": 11,
   "metadata": {},
   "outputs": [
    {
     "data": {
      "text/html": [
       "<div>\n",
       "<style scoped>\n",
       "    .dataframe tbody tr th:only-of-type {\n",
       "        vertical-align: middle;\n",
       "    }\n",
       "\n",
       "    .dataframe tbody tr th {\n",
       "        vertical-align: top;\n",
       "    }\n",
       "\n",
       "    .dataframe thead th {\n",
       "        text-align: right;\n",
       "    }\n",
       "</style>\n",
       "<table border=\"1\" class=\"dataframe\">\n",
       "  <thead>\n",
       "    <tr style=\"text-align: right;\">\n",
       "      <th></th>\n",
       "      <th>Subject</th>\n",
       "      <th>Block</th>\n",
       "      <th>Trial</th>\n",
       "      <th>Group</th>\n",
       "      <th>RT</th>\n",
       "      <th>Acc</th>\n",
       "      <th>Location</th>\n",
       "      <th>Eye</th>\n",
       "      <th>Response</th>\n",
       "      <th>Valence</th>\n",
       "      <th>Power</th>\n",
       "    </tr>\n",
       "  </thead>\n",
       "  <tbody>\n",
       "    <tr>\n",
       "      <th>0</th>\n",
       "      <td>1</td>\n",
       "      <td>1</td>\n",
       "      <td>1</td>\n",
       "      <td>1</td>\n",
       "      <td>1.389223</td>\n",
       "      <td>1</td>\n",
       "      <td>10</td>\n",
       "      <td>2</td>\n",
       "      <td>4</td>\n",
       "      <td>-0.0065</td>\n",
       "      <td>0.04075</td>\n",
       "    </tr>\n",
       "    <tr>\n",
       "      <th>1</th>\n",
       "      <td>1</td>\n",
       "      <td>2</td>\n",
       "      <td>319</td>\n",
       "      <td>1</td>\n",
       "      <td>1.372089</td>\n",
       "      <td>1</td>\n",
       "      <td>9</td>\n",
       "      <td>1</td>\n",
       "      <td>3</td>\n",
       "      <td>-0.0065</td>\n",
       "      <td>0.04075</td>\n",
       "    </tr>\n",
       "    <tr>\n",
       "      <th>2</th>\n",
       "      <td>10</td>\n",
       "      <td>1</td>\n",
       "      <td>177</td>\n",
       "      <td>1</td>\n",
       "      <td>2.402000</td>\n",
       "      <td>1</td>\n",
       "      <td>10</td>\n",
       "      <td>1</td>\n",
       "      <td>4</td>\n",
       "      <td>-0.0065</td>\n",
       "      <td>0.04075</td>\n",
       "    </tr>\n",
       "    <tr>\n",
       "      <th>3</th>\n",
       "      <td>10</td>\n",
       "      <td>2</td>\n",
       "      <td>516</td>\n",
       "      <td>1</td>\n",
       "      <td>1.162304</td>\n",
       "      <td>1</td>\n",
       "      <td>9</td>\n",
       "      <td>2</td>\n",
       "      <td>3</td>\n",
       "      <td>-0.0065</td>\n",
       "      <td>0.04075</td>\n",
       "    </tr>\n",
       "    <tr>\n",
       "      <th>4</th>\n",
       "      <td>11</td>\n",
       "      <td>1</td>\n",
       "      <td>73</td>\n",
       "      <td>1</td>\n",
       "      <td>1.430640</td>\n",
       "      <td>1</td>\n",
       "      <td>9</td>\n",
       "      <td>2</td>\n",
       "      <td>3</td>\n",
       "      <td>-0.0065</td>\n",
       "      <td>0.04075</td>\n",
       "    </tr>\n",
       "  </tbody>\n",
       "</table>\n",
       "</div>"
      ],
      "text/plain": [
       "   Subject  Block  Trial  Group        RT  Acc  Location  Eye  Response  \\\n",
       "0        1      1      1      1  1.389223    1        10    2         4   \n",
       "1        1      2    319      1  1.372089    1         9    1         3   \n",
       "2       10      1    177      1  2.402000    1        10    1         4   \n",
       "3       10      2    516      1  1.162304    1         9    2         3   \n",
       "4       11      1     73      1  1.430640    1         9    2         3   \n",
       "\n",
       "   Valence    Power  \n",
       "0  -0.0065  0.04075  \n",
       "1  -0.0065  0.04075  \n",
       "2  -0.0065  0.04075  \n",
       "3  -0.0065  0.04075  \n",
       "4  -0.0065  0.04075  "
      ]
     },
     "execution_count": 11,
     "metadata": {},
     "output_type": "execute_result"
    }
   ],
   "source": [
    "df = combine1.drop(columns=['Stimulus'])\n",
    "df.head()"
   ]
  },
  {
   "cell_type": "code",
   "execution_count": 13,
   "metadata": {},
   "outputs": [
    {
     "data": {
      "text/html": [
       "<div>\n",
       "<style scoped>\n",
       "    .dataframe tbody tr th:only-of-type {\n",
       "        vertical-align: middle;\n",
       "    }\n",
       "\n",
       "    .dataframe tbody tr th {\n",
       "        vertical-align: top;\n",
       "    }\n",
       "\n",
       "    .dataframe thead th {\n",
       "        text-align: right;\n",
       "    }\n",
       "</style>\n",
       "<table border=\"1\" class=\"dataframe\">\n",
       "  <thead>\n",
       "    <tr style=\"text-align: right;\">\n",
       "      <th></th>\n",
       "      <th>Subject</th>\n",
       "      <th>Block</th>\n",
       "      <th>Trial</th>\n",
       "      <th>Group</th>\n",
       "      <th>RT</th>\n",
       "      <th>Acc</th>\n",
       "      <th>Location</th>\n",
       "      <th>Eye</th>\n",
       "      <th>Response</th>\n",
       "      <th>Valence</th>\n",
       "      <th>Power</th>\n",
       "    </tr>\n",
       "  </thead>\n",
       "  <tbody>\n",
       "    <tr>\n",
       "      <th>56048</th>\n",
       "      <td>17</td>\n",
       "      <td>1</td>\n",
       "      <td>81</td>\n",
       "      <td>1</td>\n",
       "      <td>1.449521</td>\n",
       "      <td>1</td>\n",
       "      <td>9</td>\n",
       "      <td>2</td>\n",
       "      <td>3</td>\n",
       "      <td>0.79908</td>\n",
       "      <td>-0.51492</td>\n",
       "    </tr>\n",
       "    <tr>\n",
       "      <th>6500</th>\n",
       "      <td>60</td>\n",
       "      <td>1</td>\n",
       "      <td>159</td>\n",
       "      <td>1</td>\n",
       "      <td>1.147602</td>\n",
       "      <td>1</td>\n",
       "      <td>9</td>\n",
       "      <td>2</td>\n",
       "      <td>3</td>\n",
       "      <td>0.18044</td>\n",
       "      <td>0.53674</td>\n",
       "    </tr>\n",
       "    <tr>\n",
       "      <th>1481</th>\n",
       "      <td>27</td>\n",
       "      <td>2</td>\n",
       "      <td>342</td>\n",
       "      <td>1</td>\n",
       "      <td>1.200113</td>\n",
       "      <td>1</td>\n",
       "      <td>9</td>\n",
       "      <td>2</td>\n",
       "      <td>3</td>\n",
       "      <td>0.71835</td>\n",
       "      <td>0.94720</td>\n",
       "    </tr>\n",
       "    <tr>\n",
       "      <th>19152</th>\n",
       "      <td>74</td>\n",
       "      <td>1</td>\n",
       "      <td>298</td>\n",
       "      <td>1</td>\n",
       "      <td>1.838076</td>\n",
       "      <td>1</td>\n",
       "      <td>9</td>\n",
       "      <td>2</td>\n",
       "      <td>3</td>\n",
       "      <td>-0.97119</td>\n",
       "      <td>-1.67813</td>\n",
       "    </tr>\n",
       "    <tr>\n",
       "      <th>46999</th>\n",
       "      <td>23</td>\n",
       "      <td>2</td>\n",
       "      <td>353</td>\n",
       "      <td>1</td>\n",
       "      <td>1.329985</td>\n",
       "      <td>1</td>\n",
       "      <td>9</td>\n",
       "      <td>2</td>\n",
       "      <td>3</td>\n",
       "      <td>0.83666</td>\n",
       "      <td>-0.15689</td>\n",
       "    </tr>\n",
       "    <tr>\n",
       "      <th>...</th>\n",
       "      <td>...</td>\n",
       "      <td>...</td>\n",
       "      <td>...</td>\n",
       "      <td>...</td>\n",
       "      <td>...</td>\n",
       "      <td>...</td>\n",
       "      <td>...</td>\n",
       "      <td>...</td>\n",
       "      <td>...</td>\n",
       "      <td>...</td>\n",
       "      <td>...</td>\n",
       "    </tr>\n",
       "    <tr>\n",
       "      <th>40356</th>\n",
       "      <td>61</td>\n",
       "      <td>1</td>\n",
       "      <td>47</td>\n",
       "      <td>1</td>\n",
       "      <td>1.358155</td>\n",
       "      <td>1</td>\n",
       "      <td>9</td>\n",
       "      <td>2</td>\n",
       "      <td>3</td>\n",
       "      <td>1.04626</td>\n",
       "      <td>-0.98209</td>\n",
       "    </tr>\n",
       "    <tr>\n",
       "      <th>315</th>\n",
       "      <td>52</td>\n",
       "      <td>2</td>\n",
       "      <td>308</td>\n",
       "      <td>1</td>\n",
       "      <td>1.497688</td>\n",
       "      <td>1</td>\n",
       "      <td>10</td>\n",
       "      <td>2</td>\n",
       "      <td>4</td>\n",
       "      <td>1.53340</td>\n",
       "      <td>-0.02016</td>\n",
       "    </tr>\n",
       "    <tr>\n",
       "      <th>28661</th>\n",
       "      <td>21</td>\n",
       "      <td>2</td>\n",
       "      <td>584</td>\n",
       "      <td>1</td>\n",
       "      <td>1.402955</td>\n",
       "      <td>1</td>\n",
       "      <td>9</td>\n",
       "      <td>2</td>\n",
       "      <td>3</td>\n",
       "      <td>-0.06546</td>\n",
       "      <td>-1.39679</td>\n",
       "    </tr>\n",
       "    <tr>\n",
       "      <th>32609</th>\n",
       "      <td>10</td>\n",
       "      <td>2</td>\n",
       "      <td>328</td>\n",
       "      <td>1</td>\n",
       "      <td>1.416945</td>\n",
       "      <td>1</td>\n",
       "      <td>9</td>\n",
       "      <td>1</td>\n",
       "      <td>3</td>\n",
       "      <td>0.37385</td>\n",
       "      <td>-0.69751</td>\n",
       "    </tr>\n",
       "    <tr>\n",
       "      <th>11153</th>\n",
       "      <td>22</td>\n",
       "      <td>2</td>\n",
       "      <td>313</td>\n",
       "      <td>1</td>\n",
       "      <td>0.881758</td>\n",
       "      <td>1</td>\n",
       "      <td>10</td>\n",
       "      <td>2</td>\n",
       "      <td>4</td>\n",
       "      <td>-0.30480</td>\n",
       "      <td>-0.01938</td>\n",
       "    </tr>\n",
       "  </tbody>\n",
       "</table>\n",
       "<p>61800 rows × 11 columns</p>\n",
       "</div>"
      ],
      "text/plain": [
       "       Subject  Block  Trial  Group        RT  Acc  Location  Eye  Response  \\\n",
       "56048       17      1     81      1  1.449521    1         9    2         3   \n",
       "6500        60      1    159      1  1.147602    1         9    2         3   \n",
       "1481        27      2    342      1  1.200113    1         9    2         3   \n",
       "19152       74      1    298      1  1.838076    1         9    2         3   \n",
       "46999       23      2    353      1  1.329985    1         9    2         3   \n",
       "...        ...    ...    ...    ...       ...  ...       ...  ...       ...   \n",
       "40356       61      1     47      1  1.358155    1         9    2         3   \n",
       "315         52      2    308      1  1.497688    1        10    2         4   \n",
       "28661       21      2    584      1  1.402955    1         9    2         3   \n",
       "32609       10      2    328      1  1.416945    1         9    1         3   \n",
       "11153       22      2    313      1  0.881758    1        10    2         4   \n",
       "\n",
       "       Valence    Power  \n",
       "56048  0.79908 -0.51492  \n",
       "6500   0.18044  0.53674  \n",
       "1481   0.71835  0.94720  \n",
       "19152 -0.97119 -1.67813  \n",
       "46999  0.83666 -0.15689  \n",
       "...        ...      ...  \n",
       "40356  1.04626 -0.98209  \n",
       "315    1.53340 -0.02016  \n",
       "28661 -0.06546 -1.39679  \n",
       "32609  0.37385 -0.69751  \n",
       "11153 -0.30480 -0.01938  \n",
       "\n",
       "[61800 rows x 11 columns]"
      ]
     },
     "execution_count": 13,
     "metadata": {},
     "output_type": "execute_result"
    }
   ],
   "source": [
    "from sklearn.utils import shuffle\n",
    "shuffle(df)"
   ]
  },
  {
   "cell_type": "code",
   "execution_count": 14,
   "metadata": {},
   "outputs": [
    {
     "data": {
      "text/plain": [
       "(   Subject  Block  Trial  Group  Location  Eye  Valence    Power\n",
       " 0        1      1      1      1        10    2  -0.0065  0.04075\n",
       " 1        1      2    319      1         9    1  -0.0065  0.04075\n",
       " 2       10      1    177      1        10    1  -0.0065  0.04075\n",
       " 3       10      2    516      1         9    2  -0.0065  0.04075\n",
       " 4       11      1     73      1         9    2  -0.0065  0.04075,\n",
       " 0    1.389223\n",
       " 1    1.372089\n",
       " 2    2.402000\n",
       " 3    1.162304\n",
       " 4    1.430640\n",
       " Name: RT, dtype: float64)"
      ]
     },
     "execution_count": 14,
     "metadata": {},
     "output_type": "execute_result"
    }
   ],
   "source": [
    "X = df[['Subject', 'Block', 'Trial', 'Group', 'Location', 'Eye', 'Valence', 'Power']]\n",
    "y = df['RT']\n",
    "\n",
    "X.head(), y.head()"
   ]
  },
  {
   "cell_type": "code",
   "execution_count": 27,
   "metadata": {},
   "outputs": [],
   "source": [
    "X_train, y_train = X[:40000], y[:40000]\n",
    "X_valid, y_valid = X[40000:50000], y[40000:50000]\n",
    "X_test, y_test = X[50000:], y[50000:]"
   ]
  },
  {
   "cell_type": "code",
   "execution_count": 28,
   "metadata": {},
   "outputs": [],
   "source": [
    "%matplotlib inline\n",
    "\n",
    "from fastai.imports import *\n",
    "from sklearn.ensemble import RandomForestRegressor, RandomForestClassifier\n",
    "from IPython.display import display\n",
    "from sklearn import metrics"
   ]
  },
  {
   "cell_type": "code",
   "execution_count": 29,
   "metadata": {},
   "outputs": [],
   "source": [
    "def rmse(x,y): return math.sqrt(((x-y)**2).mean())\n",
    "\n",
    "def print_score(m):\n",
    "    res = [rmse(m.predict(X_train), y_train), rmse(m.predict(X_valid), y_valid),\n",
    "                m.score(X_train, y_train), m.score(X_valid, y_valid)]\n",
    "    if hasattr(m, 'oob_score_'): res.append(m.oob_score_)\n",
    "    print(res)"
   ]
  },
  {
   "cell_type": "code",
   "execution_count": 30,
   "metadata": {},
   "outputs": [
    {
     "data": {
      "text/plain": [
       "RandomForestRegressor(bootstrap=True, ccp_alpha=0.0, criterion='mse',\n",
       "                      max_depth=None, max_features=0.5, max_leaf_nodes=None,\n",
       "                      max_samples=None, min_impurity_decrease=0.0,\n",
       "                      min_impurity_split=None, min_samples_leaf=3,\n",
       "                      min_samples_split=2, min_weight_fraction_leaf=0.0,\n",
       "                      n_estimators=40, n_jobs=-1, oob_score=True,\n",
       "                      random_state=None, verbose=0, warm_start=False)"
      ]
     },
     "execution_count": 30,
     "metadata": {},
     "output_type": "execute_result"
    }
   ],
   "source": [
    "rf = RandomForestRegressor(n_estimators=40, min_samples_leaf=3, max_features=0.5, n_jobs=-1, oob_score=True)\n",
    "rf.fit(X_train, y_train)"
   ]
  },
  {
   "cell_type": "code",
   "execution_count": 36,
   "metadata": {},
   "outputs": [
    {
     "data": {
      "text/plain": [
       "0.8927067903255941"
      ]
     },
     "execution_count": 36,
     "metadata": {},
     "output_type": "execute_result"
    }
   ],
   "source": [
    "rmse(rf.predict(X_valid), y_valid)"
   ]
  },
  {
   "cell_type": "code",
   "execution_count": 37,
   "metadata": {},
   "outputs": [
    {
     "name": "stdout",
     "output_type": "stream",
     "text": [
      "Wall time: 117 ms\n"
     ]
    },
    {
     "data": {
      "text/plain": [
       "(1.7517253740695473, 0.8087720822911348)"
      ]
     },
     "execution_count": 37,
     "metadata": {},
     "output_type": "execute_result"
    }
   ],
   "source": [
    "%time preds = np.stack([t.predict(X_valid) for t in rf.estimators_])\n",
    "np.mean(preds[:,0]), np.std(preds[:,0])"
   ]
  },
  {
   "cell_type": "code",
   "execution_count": 38,
   "metadata": {},
   "outputs": [],
   "source": [
    "x = X_valid.copy()\n",
    "x['pred_std'] = np.std(preds, axis=0)\n",
    "x['pred'] = np.mean(preds, axis=0)"
   ]
  },
  {
   "cell_type": "code",
   "execution_count": 46,
   "metadata": {},
   "outputs": [
    {
     "data": {
      "image/png": "[encoded data removed]",
      "text/plain": [
       "<Figure size 432x288 with 1 Axes>"
      ]
     },
     "metadata": {
      "needs_background": "light"
     },
     "output_type": "display_data"
    }
   ],
   "source": [
    "X_train.Power.value_counts().plot.barh();"
   ]
  },
  {
   "cell_type": "code",
   "execution_count": 48,
   "metadata": {},
   "outputs": [],
   "source": [
    "from fastai.tabular import *"
   ]
  },
  {
   "cell_type": "code",
   "execution_count": 50,
   "metadata": {},
   "outputs": [],
   "source": [
    "def rf_feat_importance(m, df):\n",
    "    return pd.DataFrame({'cols':df.columns, 'imp':m.feature_importances_}).sort_values('imp', ascending=False)"
   ]
  },
  {
   "cell_type": "code",
   "execution_count": 51,
   "metadata": {},
   "outputs": [
    {
     "data": {
      "text/html": [
       "<div>\n",
       "<style scoped>\n",
       "    .dataframe tbody tr th:only-of-type {\n",
       "        vertical-align: middle;\n",
       "    }\n",
       "\n",
       "    .dataframe tbody tr th {\n",
       "        vertical-align: top;\n",
       "    }\n",
       "\n",
       "    .dataframe thead th {\n",
       "        text-align: right;\n",
       "    }\n",
       "</style>\n",
       "<table border=\"1\" class=\"dataframe\">\n",
       "  <thead>\n",
       "    <tr style=\"text-align: right;\">\n",
       "      <th></th>\n",
       "      <th>cols</th>\n",
       "      <th>imp</th>\n",
       "    </tr>\n",
       "  </thead>\n",
       "  <tbody>\n",
       "    <tr>\n",
       "      <th>0</th>\n",
       "      <td>Subject</td>\n",
       "      <td>0.375206</td>\n",
       "    </tr>\n",
       "    <tr>\n",
       "      <th>2</th>\n",
       "      <td>Trial</td>\n",
       "      <td>0.229135</td>\n",
       "    </tr>\n",
       "    <tr>\n",
       "      <th>7</th>\n",
       "      <td>Power</td>\n",
       "      <td>0.160432</td>\n",
       "    </tr>\n",
       "    <tr>\n",
       "      <th>6</th>\n",
       "      <td>Valence</td>\n",
       "      <td>0.155931</td>\n",
       "    </tr>\n",
       "    <tr>\n",
       "      <th>5</th>\n",
       "      <td>Eye</td>\n",
       "      <td>0.039960</td>\n",
       "    </tr>\n",
       "    <tr>\n",
       "      <th>4</th>\n",
       "      <td>Location</td>\n",
       "      <td>0.028804</td>\n",
       "    </tr>\n",
       "    <tr>\n",
       "      <th>1</th>\n",
       "      <td>Block</td>\n",
       "      <td>0.010532</td>\n",
       "    </tr>\n",
       "    <tr>\n",
       "      <th>3</th>\n",
       "      <td>Group</td>\n",
       "      <td>0.000000</td>\n",
       "    </tr>\n",
       "  </tbody>\n",
       "</table>\n",
       "</div>"
      ],
      "text/plain": [
       "       cols       imp\n",
       "0   Subject  0.375206\n",
       "2     Trial  0.229135\n",
       "7     Power  0.160432\n",
       "6   Valence  0.155931\n",
       "5       Eye  0.039960\n",
       "4  Location  0.028804\n",
       "1     Block  0.010532\n",
       "3     Group  0.000000"
      ]
     },
     "execution_count": 51,
     "metadata": {},
     "output_type": "execute_result"
    }
   ],
   "source": [
    "fi = rf_feat_importance(rf, X_train); fi[:10]"
   ]
  },
  {
   "cell_type": "code",
   "execution_count": 52,
   "metadata": {},
   "outputs": [],
   "source": [
    "def plot_fi(fi): return fi.plot('cols', 'imp', 'barh', figsize=(12,7), legend=False)"
   ]
  },
  {
   "cell_type": "code",
   "execution_count": 53,
   "metadata": {},
   "outputs": [
    {
     "data": {
      "image/png": "[encoded data removed]",
      "text/plain": [
       "<Figure size 864x504 with 1 Axes>"
      ]
     },
     "metadata": {
      "needs_background": "light"
     },
     "output_type": "display_data"
    }
   ],
   "source": [
    "plot_fi(fi[:30]);"
   ]
  },
  {
   "cell_type": "code",
   "execution_count": 55,
   "metadata": {},
   "outputs": [
    {
     "data": {
      "text/plain": [
       "4"
      ]
     },
     "execution_count": 55,
     "metadata": {},
     "output_type": "execute_result"
    }
   ],
   "source": [
    "to_keep = fi[fi.imp>0.05].cols; len(to_keep)"
   ]
  },
  {
   "cell_type": "code",
   "execution_count": 60,
   "metadata": {},
   "outputs": [],
   "source": [
    "X_train = X_train[to_keep]\n",
    "X_valid = X_valid[to_keep]"
   ]
  },
  {
   "cell_type": "code",
   "execution_count": 61,
   "metadata": {},
   "outputs": [
    {
     "data": {
      "text/plain": [
       "RandomForestRegressor(bootstrap=True, ccp_alpha=0.0, criterion='mse',\n",
       "                      max_depth=None, max_features=0.5, max_leaf_nodes=None,\n",
       "                      max_samples=None, min_impurity_decrease=0.0,\n",
       "                      min_impurity_split=None, min_samples_leaf=3,\n",
       "                      min_samples_split=2, min_weight_fraction_leaf=0.0,\n",
       "                      n_estimators=40, n_jobs=-1, oob_score=True,\n",
       "                      random_state=None, verbose=0, warm_start=False)"
      ]
     },
     "execution_count": 61,
     "metadata": {},
     "output_type": "execute_result"
    }
   ],
   "source": [
    "rf = RandomForestRegressor(n_estimators=40, min_samples_leaf=3, max_features=0.5, n_jobs=-1, oob_score=True)\n",
    "rf.fit(X_train, y_train)"
   ]
  },
  {
   "cell_type": "code",
   "execution_count": 63,
   "metadata": {},
   "outputs": [
    {
     "name": "stdout",
     "output_type": "stream",
     "text": [
      "Wall time: 103 ms\n"
     ]
    },
    {
     "data": {
      "text/plain": [
       "(1.749812284522402, 0.5918491830711811)"
      ]
     },
     "execution_count": 63,
     "metadata": {},
     "output_type": "execute_result"
    }
   ],
   "source": [
    "%time preds = np.stack([t.predict(X_valid) for t in rf.estimators_])\n",
    "np.mean(preds[:,0]), np.std(preds[:,0])"
   ]
  },
  {
   "cell_type": "code",
   "execution_count": 64,
   "metadata": {},
   "outputs": [
    {
     "data": {
      "text/html": [
       "<div>\n",
       "<style scoped>\n",
       "    .dataframe tbody tr th:only-of-type {\n",
       "        vertical-align: middle;\n",
       "    }\n",
       "\n",
       "    .dataframe tbody tr th {\n",
       "        vertical-align: top;\n",
       "    }\n",
       "\n",
       "    .dataframe thead th {\n",
       "        text-align: right;\n",
       "    }\n",
       "</style>\n",
       "<table border=\"1\" class=\"dataframe\">\n",
       "  <thead>\n",
       "    <tr style=\"text-align: right;\">\n",
       "      <th></th>\n",
       "      <th>cols</th>\n",
       "      <th>imp</th>\n",
       "    </tr>\n",
       "  </thead>\n",
       "  <tbody>\n",
       "    <tr>\n",
       "      <th>0</th>\n",
       "      <td>Subject</td>\n",
       "      <td>0.354669</td>\n",
       "    </tr>\n",
       "    <tr>\n",
       "      <th>1</th>\n",
       "      <td>Trial</td>\n",
       "      <td>0.283481</td>\n",
       "    </tr>\n",
       "    <tr>\n",
       "      <th>2</th>\n",
       "      <td>Power</td>\n",
       "      <td>0.183116</td>\n",
       "    </tr>\n",
       "    <tr>\n",
       "      <th>3</th>\n",
       "      <td>Valence</td>\n",
       "      <td>0.178734</td>\n",
       "    </tr>\n",
       "  </tbody>\n",
       "</table>\n",
       "</div>"
      ],
      "text/plain": [
       "      cols       imp\n",
       "0  Subject  0.354669\n",
       "1    Trial  0.283481\n",
       "2    Power  0.183116\n",
       "3  Valence  0.178734"
      ]
     },
     "execution_count": 64,
     "metadata": {},
     "output_type": "execute_result"
    }
   ],
   "source": [
    "fi = rf_feat_importance(rf, X_train); fi[:10]"
   ]
  },
  {
   "cell_type": "code",
   "execution_count": 65,
   "metadata": {},
   "outputs": [
    {
     "data": {
      "image/png": "[encoded data removed]",
      "text/plain": [
       "<Figure size 864x504 with 1 Axes>"
      ]
     },
     "metadata": {
      "needs_background": "light"
     },
     "output_type": "display_data"
    }
   ],
   "source": [
    "plot_fi(fi[:30]);"
   ]
  },
  {
   "cell_type": "code",
   "execution_count": null,
   "metadata": {},
   "outputs": [],
   "source": []
  }
 ],
 "metadata": {
  "kernelspec": {
   "display_name": "Python [conda env:fastai]",
   "language": "python",
   "name": "conda-env-fastai-py"
  },
  "language_info": {
   "codemirror_mode": {
    "name": "ipython",
    "version": 3
   },
   "file_extension": ".py",
   "mimetype": "text/x-python",
   "name": "python",
   "nbconvert_exporter": "python",
   "pygments_lexer": "ipython3",
   "version": "3.7.7"
  }
 },
 "nbformat": 4,
 "nbformat_minor": 2
}
